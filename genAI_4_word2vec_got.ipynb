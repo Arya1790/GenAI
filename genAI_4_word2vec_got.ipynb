{
  "nbformat": 4,
  "nbformat_minor": 0,
  "metadata": {
    "colab": {
      "provenance": [],
      "authorship_tag": "ABX9TyO/exDBHWwnsYkchIFmAQXj",
      "include_colab_link": true
    },
    "kernelspec": {
      "name": "python3",
      "display_name": "Python 3"
    },
    "language_info": {
      "name": "python"
    }
  },
  "cells": [
    {
      "cell_type": "markdown",
      "metadata": {
        "id": "view-in-github",
        "colab_type": "text"
      },
      "source": [
        "<a href=\"https://colab.research.google.com/github/Arya1790/GenAI/blob/main/genAI_4_word2vec_got.ipynb\" target=\"_parent\"><img src=\"https://colab.research.google.com/assets/colab-badge.svg\" alt=\"Open In Colab\"/></a>"
      ]
    },
    {
      "cell_type": "code",
      "source": [
        "from google.colab import drive\n",
        "drive.mount('/content/drive')"
      ],
      "metadata": {
        "colab": {
          "base_uri": "https://localhost:8080/"
        },
        "id": "kYU86KK2Tadr",
        "outputId": "33016564-d17b-4f46-b343-062c046f663e"
      },
      "execution_count": null,
      "outputs": [
        {
          "output_type": "stream",
          "name": "stdout",
          "text": [
            "Mounted at /content/drive\n"
          ]
        }
      ]
    },
    {
      "cell_type": "code",
      "source": [
        "import os\n",
        "import sys\n",
        "import pandas as pd\n",
        "import numpy as np\n",
        "import nltk\n",
        "from nltk import sent_tokenize, word_tokenize\n",
        "from nltk.corpus import stopwords\n",
        "from gensim.utils import simple_preprocess\n",
        "import gensim"
      ],
      "metadata": {
        "id": "uyfUl3tLVDH_"
      },
      "execution_count": null,
      "outputs": []
    },
    {
      "cell_type": "code",
      "source": [
        "dir = '/content/drive/MyDrive/Datasets_2024/GOT'\n",
        "#'/content/data'\n",
        "dir"
      ],
      "metadata": {
        "colab": {
          "base_uri": "https://localhost:8080/",
          "height": 35
        },
        "id": "GWamBQUKVFCM",
        "outputId": "a38ccb13-41b5-42dc-a760-43f6ecf17b8a"
      },
      "execution_count": null,
      "outputs": [
        {
          "output_type": "execute_result",
          "data": {
            "text/plain": [
              "'/content/drive/MyDrive/Datasets_2024/GOT'"
            ],
            "application/vnd.google.colaboratory.intrinsic+json": {
              "type": "string"
            }
          },
          "metadata": {},
          "execution_count": 9
        }
      ]
    },
    {
      "cell_type": "code",
      "source": [
        "import nltk\n",
        "nltk.download('punkt')\n",
        "nltk.download('stopwords')"
      ],
      "metadata": {
        "colab": {
          "base_uri": "https://localhost:8080/"
        },
        "id": "fVVV0l8S0-dH",
        "outputId": "bcd29102-51c8-47ae-b5b6-5dfdbb841e22"
      },
      "execution_count": null,
      "outputs": [
        {
          "output_type": "stream",
          "name": "stderr",
          "text": [
            "[nltk_data] Downloading package punkt to /root/nltk_data...\n",
            "[nltk_data]   Package punkt is already up-to-date!\n",
            "[nltk_data] Downloading package stopwords to /root/nltk_data...\n",
            "[nltk_data]   Unzipping corpora/stopwords.zip.\n"
          ]
        },
        {
          "output_type": "execute_result",
          "data": {
            "text/plain": [
              "True"
            ]
          },
          "metadata": {},
          "execution_count": 6
        }
      ]
    },
    {
      "cell_type": "code",
      "source": [
        "stop_words = stopwords.words(\"english\")\n",
        "def preprocess(sentences):\n",
        "  text = [word for word in sentences.split() if word not in stop_words]\n",
        "  return \" \".join(text)"
      ],
      "metadata": {
        "id": "_V3ElBKb1pzM"
      },
      "execution_count": null,
      "outputs": []
    },
    {
      "cell_type": "code",
      "source": [],
      "metadata": {
        "id": "rXrfWtlQJ8Hl"
      },
      "execution_count": null,
      "outputs": []
    },
    {
      "cell_type": "code",
      "source": [
        "story = []\n",
        "for file in os.listdir(dir):\n",
        "  f = open(os.path.join(dir,file), mode='r',encoding ='latin-1')\n",
        "  corpus=f.read()\n",
        "  sents=sent_tokenize(corpus)\n",
        "  for sent in sents:\n",
        "    sent=preprocess(sent)\n",
        "    story.append(simple_preprocess(sent)) #list of tokens\n"
      ],
      "metadata": {
        "id": "Z3nUWlYpVFE0"
      },
      "execution_count": null,
      "outputs": []
    },
    {
      "cell_type": "code",
      "source": [
        "# load the model\n",
        "model=gensim.models.Word2Vec(\n",
        "    window = 7, # number of words in a sequence\n",
        "    min_count = 2, # Minimum number of allowed in a doc\n",
        "    workers = 8,\n",
        "    vector_size = 200, # 100 by default\n",
        "    epochs = 10\n",
        ")\n",
        "# vector_size is the dimension"
      ],
      "metadata": {
        "id": "qlKN_nb3VFJi"
      },
      "execution_count": null,
      "outputs": []
    },
    {
      "cell_type": "code",
      "source": [
        "model.build_vocab(story)"
      ],
      "metadata": {
        "id": "aC2fUIJgVFL5"
      },
      "execution_count": null,
      "outputs": []
    },
    {
      "cell_type": "code",
      "source": [
        "model.corpus_count"
      ],
      "metadata": {
        "colab": {
          "base_uri": "https://localhost:8080/"
        },
        "id": "wZ7xd-Xx5fXd",
        "outputId": "236f24d2-1989-4011-bc8c-db4793f75ea3"
      },
      "execution_count": null,
      "outputs": [
        {
          "output_type": "execute_result",
          "data": {
            "text/plain": [
              "145020"
            ]
          },
          "metadata": {},
          "execution_count": 35
        }
      ]
    },
    {
      "cell_type": "code",
      "source": [
        "len(story)"
      ],
      "metadata": {
        "colab": {
          "base_uri": "https://localhost:8080/"
        },
        "id": "1oRSiZxb5xB5",
        "outputId": "c801170c-8903-4f22-93e3-9d7f25c81dc5"
      },
      "execution_count": null,
      "outputs": [
        {
          "output_type": "execute_result",
          "data": {
            "text/plain": [
              "145020"
            ]
          },
          "metadata": {},
          "execution_count": 36
        }
      ]
    },
    {
      "cell_type": "code",
      "source": [
        "model.train(story, total_examples=model.corpus_count, epochs=model.epochs)"
      ],
      "metadata": {
        "id": "V0E6-2a_VFOe",
        "colab": {
          "base_uri": "https://localhost:8080/"
        },
        "outputId": "b142f30a-348d-4f0b-86b1-4a7abc000910"
      },
      "execution_count": null,
      "outputs": [
        {
          "output_type": "execute_result",
          "data": {
            "text/plain": [
              "(10002280, 10638610)"
            ]
          },
          "metadata": {},
          "execution_count": 37
        }
      ]
    },
    {
      "cell_type": "code",
      "source": [
        "model.wv['throne']"
      ],
      "metadata": {
        "id": "MNJdD1W3VFR_",
        "colab": {
          "base_uri": "https://localhost:8080/"
        },
        "outputId": "f21fd337-3ed5-4bba-9c1f-6c46d4cabf18"
      },
      "execution_count": null,
      "outputs": [
        {
          "output_type": "execute_result",
          "data": {
            "text/plain": [
              "array([ 0.5296559 , -0.85153615, -0.07769947,  0.6745096 , -1.4770492 ,\n",
              "        0.00709756,  0.74585253,  0.81630695,  0.08135176,  0.47471815,\n",
              "       -0.41449958, -2.380543  ,  2.401271  ,  0.10676606,  1.3863542 ,\n",
              "       -1.1591953 ,  1.6359872 , -0.1592347 , -0.9949069 ,  0.82687676,\n",
              "        2.0411382 , -0.09284945, -1.0016625 ,  1.1465709 ,  0.15052928,\n",
              "       -0.469477  ,  0.07910793,  1.0830142 , -0.27598348, -1.603669  ,\n",
              "        0.9185479 , -0.4659422 ,  1.1536915 , -0.5664401 ,  1.0337027 ,\n",
              "       -1.5495744 , -0.12003467,  1.7278172 , -0.03639255,  1.431931  ,\n",
              "       -0.07266685, -1.4536126 , -0.8343975 ,  0.39830586, -0.7105476 ,\n",
              "       -0.38619232, -0.07607052,  0.29638892,  0.17519532,  0.7274287 ,\n",
              "        0.98186755,  0.0247003 , -1.4529943 ,  0.8894551 , -0.4932772 ,\n",
              "       -0.63471246,  0.8827908 , -0.906737  , -1.6618406 ,  1.1857227 ,\n",
              "       -1.8563854 , -0.72733593, -0.6603009 , -1.3230623 , -1.6688432 ,\n",
              "       -0.49034575,  0.6009071 , -1.2613089 , -0.7670238 , -1.8046851 ,\n",
              "       -0.778474  , -1.5755587 , -0.1712336 , -0.4259288 ,  0.5507298 ,\n",
              "       -0.3598773 , -0.26056308,  2.3326795 ,  0.46491474, -1.2312068 ,\n",
              "       -0.7074337 , -1.007296  , -0.6724395 ,  0.49232748, -0.6047736 ,\n",
              "        0.77280366, -0.7323247 , -0.3708954 ,  0.07507077, -0.693084  ,\n",
              "       -0.9852639 ,  0.9494203 , -0.3496586 , -0.6436514 ,  0.72158694,\n",
              "       -0.030084  , -0.7067857 ,  0.740973  , -0.49718475, -1.0701809 ,\n",
              "       -0.6729406 , -2.2194724 ,  1.686445  ,  0.8418465 , -0.23053326,\n",
              "       -1.9699752 , -0.25996888,  0.6305098 , -0.6872635 , -0.8437933 ,\n",
              "        1.3400636 , -2.173092  ,  1.0158048 ,  0.740175  ,  0.9314896 ,\n",
              "        1.1836085 ,  0.31519854, -0.74539167,  0.22479689,  0.2624211 ,\n",
              "        0.43443817,  1.2912024 ,  0.6504224 , -0.2936523 ,  0.42177305,\n",
              "       -0.72506297, -0.7919815 ,  0.04320533,  1.6838247 ,  1.1308517 ,\n",
              "        1.2803483 ,  0.8286878 , -0.59377676, -0.6597967 , -0.16438888,\n",
              "       -0.2524845 ,  1.2025504 ,  0.8569789 ,  1.0606583 , -0.41142565,\n",
              "       -0.0642696 ,  1.8641393 ,  0.25660083,  1.5568727 ,  2.0706608 ,\n",
              "        0.10453854, -0.23064882,  0.8601699 , -1.0451021 , -0.5997565 ,\n",
              "       -0.6779976 ,  0.3851695 , -0.48903418, -1.4933178 , -2.0881093 ,\n",
              "        0.4263088 ,  0.43161923, -1.0507149 ,  1.0779595 ,  0.6749007 ,\n",
              "       -0.9513498 ,  0.6954982 , -1.0307994 ,  1.2435973 ,  0.34272137,\n",
              "        0.05622394, -0.6329726 ,  0.9587596 , -1.3769028 ,  0.82081735,\n",
              "        0.9660845 , -0.4059972 , -1.1656747 , -1.0274073 ,  0.36642468,\n",
              "        0.7642943 ,  1.5557722 , -1.2974133 ,  1.2728513 ,  0.24272558,\n",
              "        0.1454797 , -2.0445874 , -0.5266228 ,  0.96273386,  0.04059975,\n",
              "        1.6742983 , -0.13113235, -0.56242055, -0.8489303 ,  0.08493838,\n",
              "        0.0481905 ,  0.600916  , -0.22498962, -0.60477245, -0.7790082 ,\n",
              "       -0.16833481, -1.1153781 , -0.05710285,  1.8479341 , -1.3442446 ],\n",
              "      dtype=float32)"
            ]
          },
          "metadata": {},
          "execution_count": 38
        }
      ]
    },
    {
      "cell_type": "code",
      "source": [
        "len(model.wv['throne'])"
      ],
      "metadata": {
        "colab": {
          "base_uri": "https://localhost:8080/"
        },
        "id": "xLXJwkR358Je",
        "outputId": "c1899ee6-3e58-48c5-9813-7a10c34236fa"
      },
      "execution_count": null,
      "outputs": [
        {
          "output_type": "execute_result",
          "data": {
            "text/plain": [
              "200"
            ]
          },
          "metadata": {},
          "execution_count": 39
        }
      ]
    },
    {
      "cell_type": "code",
      "source": [
        "model.wv.similarity(\"arya\",\"sansa\")"
      ],
      "metadata": {
        "colab": {
          "base_uri": "https://localhost:8080/"
        },
        "id": "0uivmHqF58MQ",
        "outputId": "196035bf-98b3-4824-bda3-026c01b25e20"
      },
      "execution_count": null,
      "outputs": [
        {
          "output_type": "execute_result",
          "data": {
            "text/plain": [
              "0.7240671"
            ]
          },
          "metadata": {},
          "execution_count": 40
        }
      ]
    },
    {
      "cell_type": "code",
      "source": [
        "model.wv.similarity(\"jaime\",\"sansa\")"
      ],
      "metadata": {
        "colab": {
          "base_uri": "https://localhost:8080/"
        },
        "id": "ZFYKbi5X58P2",
        "outputId": "d0085ac9-945f-4314-b790-1fc6ccea5aa6"
      },
      "execution_count": null,
      "outputs": [
        {
          "output_type": "execute_result",
          "data": {
            "text/plain": [
              "0.4725683"
            ]
          },
          "metadata": {},
          "execution_count": 41
        }
      ]
    },
    {
      "cell_type": "code",
      "source": [
        "model.wv.doesnt_match(['jon','rikon','robb','arya','sansa','bran'])"
      ],
      "metadata": {
        "colab": {
          "base_uri": "https://localhost:8080/",
          "height": 52
        },
        "id": "Pd0x4SMrQF3h",
        "outputId": "20879996-18c8-4d19-d7a5-31b7d4c00ba7"
      },
      "execution_count": null,
      "outputs": [
        {
          "output_type": "stream",
          "name": "stderr",
          "text": [
            "WARNING:gensim.models.keyedvectors:vectors for words {'rikon'} are not present in the model, ignoring these words\n"
          ]
        },
        {
          "output_type": "execute_result",
          "data": {
            "text/plain": [
              "'jon'"
            ],
            "application/vnd.google.colaboratory.intrinsic+json": {
              "type": "string"
            }
          },
          "metadata": {},
          "execution_count": 42
        }
      ]
    },
    {
      "cell_type": "code",
      "source": [],
      "metadata": {
        "id": "nSsg2dCqQF56"
      },
      "execution_count": null,
      "outputs": []
    },
    {
      "cell_type": "code",
      "source": [],
      "metadata": {
        "id": "Ly5MrWr-QF9b"
      },
      "execution_count": null,
      "outputs": []
    }
  ]
}